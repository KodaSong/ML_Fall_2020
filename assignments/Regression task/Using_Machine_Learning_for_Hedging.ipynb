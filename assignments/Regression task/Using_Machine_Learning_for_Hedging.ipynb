{
 "cells": [
  {
   "cell_type": "markdown",
   "metadata": {},
   "source": [
    "Before you turn this problem in, make sure everything runs as expected. First, **restart the kernel** (in the menubar, select Kernel$\\rightarrow$Restart) and then **run all cells** (in the menubar, select Cell$\\rightarrow$Run All).\n",
    "\n",
    "Make sure you fill in any place that says `YOUR CODE HERE` or \"YOUR ANSWER HERE\", as well as your name and collaborators below:"
   ]
  },
  {
   "cell_type": "code",
   "execution_count": null,
   "metadata": {},
   "outputs": [],
   "source": [
    "NAME = \"\"\n",
    "COLLABORATORS = \"\""
   ]
  },
  {
   "cell_type": "markdown",
   "metadata": {},
   "source": [
    "---"
   ]
  },
  {
   "cell_type": "markdown",
   "metadata": {},
   "source": [
    "$$\n",
    "\\newcommand{\\x}{\\mathbf{x}}\n",
    "\\newcommand{\\y}{\\mathbf{y}}\n",
    "\\newcommand{\\price}{{p}}\n",
    "\\newcommand{\\ret}{{r}}\n",
    "\\newcommand{\\tp}{{(t)}}\n",
    "\\newcommand{\\aapl}{{\\text{AAPL}}}\n",
    "\\newcommand{\\ba}{{\\text{BA}}}\n",
    "\\newcommand{\\spy}{{\\text{SPY}}}\n",
    "$$"
   ]
  },
  {
   "cell_type": "markdown",
   "metadata": {},
   "source": [
    "# Assignment: Using Machine Learning for Hedging\n",
    "\n",
    "Welcome to the first assignment !\n",
    "\n",
    "# Problem description\n",
    "\n",
    "We will solve a Regression task that is very common in Finance\n",
    "- Given the return of \"the market\", predict the return of a particular stock\n",
    "\n",
    "That is\n",
    "- Given the return of a proxy for \"the market\" at time $t$, predict the return of, e.g., Apple at time $t$.\n",
    "\n",
    "As we will explain,\n",
    "being able to predict the relationship between two financial instruments opens up possibilities\n",
    "- Use one instrument to \"hedge\" or reduce the risk of holding the other\n",
    "- Create strategies whose returns are independent of \"the market\"\n",
    "    - Hopefully make a profit regardless of whether the market goes up or down"
   ]
  },
  {
   "cell_type": "markdown",
   "metadata": {},
   "source": [
    "## Goal\n",
    "\n",
    "You will create models of increasing complexity in order to explain the return of Apple (ticker $\\aapl$)\n",
    "- The first model will have a single feature: return of the market proxy, ticker $\\spy$\n",
    "- Subsequent models will add the return of other tickers as additional features"
   ]
  },
  {
   "cell_type": "markdown",
   "metadata": {},
   "source": [
    "## Learning Objectives\n",
    "- Learn how to solve a Regression task\n",
    "- Become facile in the `sklearn` toolkit for Machine Learning"
   ]
  },
  {
   "cell_type": "markdown",
   "metadata": {},
   "source": [
    "## How to report your answers\n",
    "We will mix explanation of the topic with tasks that you must complete. \n",
    "\n",
    "Look for \n",
    "the string \"**Question**\" to find a task that you must perform.\n",
    "\n",
    "Most of the tasks will require you to create some code at the location indicated by\n",
    "\n",
    ">`# YOUR CODE HERE\n",
    "raise NotImplementedError()`\n",
    "\n",
    "- Replace `raise NotImplementedError()` with your own code"
   ]
  },
  {
   "cell_type": "markdown",
   "metadata": {},
   "source": [
    "# Standard imports"
   ]
  },
  {
   "cell_type": "code",
   "execution_count": null,
   "metadata": {
    "deletable": false,
    "editable": false,
    "nbgrader": {
     "cell_type": "code",
     "checksum": "7a3fa8b4455f72468d048d394686587d",
     "grade": false,
     "grade_id": "cell-99b5f8a456b0246a",
     "locked": true,
     "schema_version": 3,
     "solution": false,
     "task": false
    }
   },
   "outputs": [],
   "source": [
    "# Standard imports\n",
    "import numpy as np\n",
    "import pandas as pd\n",
    "import matplotlib.pyplot as plt\n",
    "\n",
    "import sklearn\n",
    "\n",
    "import os\n",
    "import math\n",
    "\n",
    "%matplotlib inline"
   ]
  },
  {
   "cell_type": "code",
   "execution_count": null,
   "metadata": {
    "deletable": false,
    "editable": false,
    "nbgrader": {
     "cell_type": "code",
     "checksum": "7b882bb499968178ee01aeae81e5685a",
     "grade": false,
     "grade_id": "cell-4423599e20464120",
     "locked": true,
     "schema_version": 3,
     "solution": false,
     "task": false
    }
   },
   "outputs": [],
   "source": [
    "from IPython.core.interactiveshell import InteractiveShell\n",
    "InteractiveShell.ast_node_interactivity = \"all\"\n",
    "\n",
    "# Reload all modules imported with %aimport\n",
    "%load_ext autoreload\n",
    "%autoreload 1\n",
    "\n",
    "# Import nn_helper module\n",
    "import helper\n",
    "%aimport helper\n",
    "\n",
    "helper = helper.HELPER()"
   ]
  },
  {
   "cell_type": "markdown",
   "metadata": {},
   "source": [
    "# Get The data\n",
    "\n",
    "\n",
    "The first step in our Recipe is Get the Data.\n",
    "\n",
    "The data are the daily prices of a number of individual equities and equity indices.\n",
    "\n",
    "The prices are arranged in a series in ascending date order (a timeseries).\n",
    "- There are many `.csv` files for equity or index in the directory `DATA_DIR`"
   ]
  },
  {
   "cell_type": "markdown",
   "metadata": {},
   "source": [
    "## API for students\n",
    "\n",
    "We will define some utility routines to help you.\n",
    "\n",
    "In this way, you can focus on the learning objectives rather than data manipulation.\n",
    "\n",
    "This is not representative of the \"real world\"; you will need to complete data manipulation tasks in later assignments."
   ]
  },
  {
   "cell_type": "markdown",
   "metadata": {},
   "source": [
    "We provide a class `HELPER`\n",
    "- Instantiated as \n",
    ">    `helper = helper.HELPER()`\n",
    "\n",
    "With methods\n",
    "- `getData`:\n",
    "    - Get examples for a list of equity tickers and an index ticker.\n",
    "    - Called as\n",
    "    > `data = helper.getData( tickers, index_ticker, attrs)`\n",
    "        - `tickers` is a list of tickers\n",
    "        - `index` is the ticker of the index  \n",
    "        - `attrs` is a list of data attributes\n",
    "   "
   ]
  },
  {
   "cell_type": "markdown",
   "metadata": {},
   "source": [
    "**Question:**\n",
    "- Create code to\n",
    "    - Get the adjusted close price of $\\aapl$ and $\\spy$ \n",
    "    - Assign the result to variable `data`\n",
    "\n",
    "**Hint:**\n",
    "- Use the `getData` method from the helper class\n",
    "    - The list of tickers contains just the single ticker $\\aapl$\n",
    "    - The index ticker is $\\spy$\n",
    "    - The list of attributes is the single attribute `Adj Close`\n"
   ]
  },
  {
   "cell_type": "code",
   "execution_count": null,
   "metadata": {
    "deletable": false,
    "nbgrader": {
     "cell_type": "code",
     "checksum": "99daafa3cfc32b40857d84ccee25e107",
     "grade": false,
     "grade_id": "cell-8ff9c8c031ab3ee3",
     "locked": false,
     "schema_version": 3,
     "solution": true,
     "task": false
    }
   },
   "outputs": [],
   "source": [
    "ticker = \"AAPL\"\n",
    "index_ticker = \"SPY\"\n",
    "dateAttr = \"Dt\"\n",
    "priceAttr = \"Adj Close\"\n",
    "\n",
    "# YOUR CODE HERE\n",
    "raise NotImplementedError()"
   ]
  },
  {
   "cell_type": "markdown",
   "metadata": {},
   "source": [
    "# Have a look at the data\n",
    "\n",
    "We will not go through all steps in the Recipe, nor in depth.\n",
    "\n",
    "But here's a peek at the data you retrieved"
   ]
  },
  {
   "cell_type": "code",
   "execution_count": null,
   "metadata": {},
   "outputs": [],
   "source": [
    "data.head()"
   ]
  },
  {
   "cell_type": "code",
   "execution_count": null,
   "metadata": {},
   "outputs": [],
   "source": [
    "# Print the Start time and End time\n",
    "print(\"Start time: \", data.index.min())\n",
    "print(\"End time: \", data.index.max())"
   ]
  },
  {
   "cell_type": "markdown",
   "metadata": {},
   "source": [
    "Expected outputs should be similar to this:   \n",
    "data:    \n",
    "<table> \n",
    "    <tr> \n",
    "        <td>Dt</td><td>AAPL_Adj_Close</td><td>SPY_Adj_Close</td>\n",
    "    </tr>\n",
    "    <tr> \n",
    "        <td>2017-01-03</td><td>110.9539</td><td>213.8428</td> \n",
    "    </tr>\n",
    "    <tr> \n",
    "        <td>2017-01-04</td><td>110.8297</td><td>215.1149</td>\n",
    "    </tr>\n",
    "    <tr> \n",
    "        <td>2017-01-05</td><td>111.3933</td><td>214.9440</td>\n",
    "    </tr>\n",
    "    <tr> \n",
    "        <td>2017-01-06</td><td>112.6351</td><td>215.7131</td> \n",
    "    </tr>\n",
    "    <tr> \n",
    "        <td>2017-01-09</td><td>113.6668</td> <td>215.0010</td>\n",
    "    </tr>\n",
    "</table>   "
   ]
  },
  {
   "cell_type": "markdown",
   "metadata": {},
   "source": [
    "## Create DataFrame of price levels for the training examples\n",
    "\n",
    "The training examples will be stored in a DataFrame.\n",
    "\n",
    "- The DataFrame should have two columns: the price level for the ticker and for the index\n",
    "- The minimum date in the DataFrame should be **the trading day before** `start_dt`\n",
    "    - That is: the latest date for which there is data and which is less than `start_dt`\n",
    "    - For example, if `start_dt` is a Monday, the \"day before\" would be Friday, not Saturday.\n",
    "        - Similarly for the case where the day before `start_dt` is a holiday\n",
    "- The maximum date in the DataFrame should be `end_dt`\n",
    "\n",
    "The reason we are adding one day prior to `start_dt`\n",
    "- We want to have returns (percent price changes) from `start_dt` onwards\n",
    "- In order to compute a return for `start_dt`, we need the level from the prior day\n",
    "\n",
    "**Question:**\n",
    "\n",
    "- Complete the function `getRange()`\n",
    "    - To return the subset of rows of our examples\n",
    "    - Beginning on the **trading day before** date `start_dt`\n",
    "    - Ending on date `end_dt`\n"
   ]
  },
  {
   "cell_type": "code",
   "execution_count": null,
   "metadata": {
    "deletable": false,
    "nbgrader": {
     "cell_type": "code",
     "checksum": "7349bd42997bf9921f647de19de9dee4",
     "grade": false,
     "grade_id": "cell-c0e65a9eb6acc70e",
     "locked": false,
     "schema_version": 3,
     "solution": true,
     "task": false
    }
   },
   "outputs": [],
   "source": [
    "start_dt = \"2018-01-02\"\n",
    "end_dt = \"2018-09-28\"\n",
    "train_data_price = None\n",
    "\n",
    "# Set variable train_data_price to be a DataFrame with two columns\n",
    "## AAPL_Adj_Close, SPY_Adj_Close\n",
    "## with dates as the index\n",
    "## Having minimum date equal to THE DAY BEFORE start_dt\n",
    "## Having maximum date equal to end_dt\n",
    "\n",
    "def getRange(df, start_dt, end_dt):\n",
    "    '''\n",
    "    Return the the subset of rows of DataFrame df\n",
    "    restricted to dates between start_dt and end_dt\n",
    "    \n",
    "    Parameters\n",
    "    ----------\n",
    "    start_dt: String\n",
    "    - Start date\n",
    "    \n",
    "    end_dt: String\n",
    "    - End date\n",
    "    '''\n",
    "    # YOUR CODE HERE\n",
    "    raise NotImplementedError()\n",
    "\n",
    "train_data_price = getRange(data, start_dt, end_dt)\n",
    "print(train_data_price.head())"
   ]
  },
  {
   "cell_type": "code",
   "execution_count": null,
   "metadata": {
    "deletable": false,
    "editable": false,
    "nbgrader": {
     "cell_type": "code",
     "checksum": "6104676c8655b8e21717df44f02d507f",
     "grade": true,
     "grade_id": "check-get-time-range",
     "locked": true,
     "points": 10,
     "schema_version": 3,
     "solution": false
    }
   },
   "outputs": [],
   "source": []
  },
  {
   "cell_type": "markdown",
   "metadata": {},
   "source": [
    "As you can see, each row has two attributes for one  date\n",
    "- Price (adjusted close) of ticker $\\aapl$\n",
    "- Price (adjusted close) of the market proxy $\\spy$"
   ]
  },
  {
   "cell_type": "markdown",
   "metadata": {},
   "source": [
    "# Create test set\n",
    "\n",
    "We just created a set of training examples as a subset of the rows of `data`.\n",
    "\n",
    "We will do the same to create a set of test examples.\n",
    "\n",
    "**Question:**\n",
    "\n",
    "Set variable `test_data_price`\n",
    "- To  the subset of rows of our examples\n",
    "- Beginning on the **trading day before** date `test_start_dt`\n",
    "- Ending on date `test_end_dt`\n",
    "\n",
    "**Hint**\n",
    "- Use `getRange` with different arguments for the dates"
   ]
  },
  {
   "cell_type": "code",
   "execution_count": null,
   "metadata": {
    "deletable": false,
    "nbgrader": {
     "cell_type": "code",
     "checksum": "4205b5f9982a2ab078f780c7179a4bfb",
     "grade": false,
     "grade_id": "cell-27491348296befb7",
     "locked": false,
     "schema_version": 3,
     "solution": true,
     "task": false
    }
   },
   "outputs": [],
   "source": [
    "test_start_dt = '2018-10-01'\n",
    "test_end_dt = '2018-12-31'\n",
    "\n",
    "# YOUR CODE HERE\n",
    "raise NotImplementedError()\n"
   ]
  },
  {
   "cell_type": "markdown",
   "metadata": {},
   "source": [
    "# Prepare the data\n",
    "\n",
    "In Finance, it is very typical to work with *relative changes* (e.g., percent price change)\n",
    "rather than *absolute changes* (price change) or *levels* (prices).\n",
    "\n",
    "Without going into too much detail\n",
    "- Relative changes are more consistent over time than either absolute changes or levels\n",
    "- The consistency can facilitate the use of data over a longer time period\n",
    "\n",
    "For example, let's suppose that prices are given in units of USD (dollar)\n",
    "- A price change of 1 USD is more likely for a stock with price level 100 than price level 10\n",
    "    - A relative change of $1/100 = 1 %$ is more likely than a change of $1/10 = 10%$\n",
    "    - So relative changes are less dependent on price level than either price changes or price levels\n",
    "    \n",
    "    \n",
    "To compute the *return* (percent change in prices)\n",
    " for ticker $\\aapl$ (Apple) on date $t$\n",
    "\n",
    "$$\n",
    "\\begin{array}[lll]\\\\\n",
    "\\ret_\\aapl^\\tp = \\frac{\\price _\\aapl^\\tp}{\\price _\\aapl^{(t-1)}} -1 \\\\\n",
    "\\text{where} \\\\\n",
    "\\price_\\aapl^\\tp \\text{ denotes the price of ticker } \\aapl \\text{ on date } t \\\\\n",
    "\\ret_\\aapl^\\tp \\text{ denotes the return of ticker } \\aapl \\text{ on date } t\n",
    "\\end{array}\n",
    "$$\n"
   ]
  },
  {
   "cell_type": "markdown",
   "metadata": {},
   "source": [
    "# Transformations: transform the training data\n",
    "\n",
    "Our first task is to transform the data from price levels (Adj Close)\n",
    "to Percent Price Changes.\n",
    "\n",
    "Moreover, the date range for the training data is specified to be in the range\n",
    "from `start_dt` (start date) to `end_dt`, inclusive on both sides.\n",
    "\n",
    "**Note**\n",
    "\n",
    "We will need to apply **identical** transformations to both the training and test data examples.\n",
    "\n",
    "In the cells that immediately follow, we will do this only for the **training data**\n",
    "\n",
    "You will need to repeat these steps for the test data in a subsequent step.\n",
    "\n",
    "You are well-advised to create subroutines or functions to accomplish these tasks !\n",
    "- You will apply them first to transform training data\n",
    "- You will apply them a second time to transform the test data\n",
    "\n",
    "We will achieve this is several steps"
   ]
  },
  {
   "cell_type": "markdown",
   "metadata": {},
   "source": [
    "## Create DataFrame of returns for training examples\n",
    "\n",
    "Create a new DataFrame with percent price changes of the columns, rather than the levels\n",
    "\n",
    "**Question:**\n",
    "- Complete function `getReturns()` to compute the returns of tickers.\n",
    "- Set variable `train_data_ret` to be a DataFrame with the same columns\n",
    "    - But where the prices have been replaced by day over day percent changes\n",
    "    - The column names of `train_data_ret` should be the same as the original columns names\n",
    "    - We give you code to rename the columns to reflect the changed meaning of the data in the next step\n",
    "\n",
    "**Hint:**\n",
    "- look up the Pandas `pct_change()` method    "
   ]
  },
  {
   "cell_type": "code",
   "execution_count": null,
   "metadata": {
    "deletable": false,
    "nbgrader": {
     "cell_type": "code",
     "checksum": "1b9a102caa49707cb8322d0a1311dde4",
     "grade": false,
     "grade_id": "cell-1686f75593a7bace",
     "locked": false,
     "schema_version": 3,
     "solution": true,
     "task": false
    }
   },
   "outputs": [],
   "source": [
    "train_data_df = None\n",
    "\n",
    "def getReturns(df, start_dt, end_dt):\n",
    "    '''\n",
    "    Return the day over day percent changes of adjusted price\n",
    "    '''\n",
    "    # YOUR CODE HERE\n",
    "    raise NotImplementedError()\n",
    "\n",
    "train_data_ret = getReturns(train_data_price, start_dt, end_dt)\n",
    "print(train_data_ret.head())"
   ]
  },
  {
   "cell_type": "code",
   "execution_count": null,
   "metadata": {
    "deletable": false,
    "editable": false,
    "nbgrader": {
     "cell_type": "code",
     "checksum": "ebd2947acec5bdabb26bcb409a90b834",
     "grade": true,
     "grade_id": "check-get-returns",
     "locked": true,
     "points": 20,
     "schema_version": 3,
     "solution": false
    }
   },
   "outputs": [],
   "source": []
  },
  {
   "cell_type": "markdown",
   "metadata": {},
   "source": [
    "Since the columns of `train_data_ret` are now returns, we will rename then for you.\n",
    "\n",
    "Also, we will drop the earliest date\n",
    "- There is now return for this date\n",
    "- We included this row only so we could compute the return for the following trading date"
   ]
  },
  {
   "cell_type": "code",
   "execution_count": null,
   "metadata": {
    "deletable": false,
    "editable": false,
    "nbgrader": {
     "cell_type": "code",
     "checksum": "ef6bff6f94fb9bf60c9b2eba272178b6",
     "grade": false,
     "grade_id": "cell-fb9edc0f593c043d",
     "locked": true,
     "schema_version": 3,
     "solution": false,
     "task": false
    }
   },
   "outputs": [],
   "source": [
    "## Rename the columns to indicate that they have been transformed from price (Adj_close) to Return\n",
    "train_data_ret = helper.renamePriceToRet( train_data_ret )\n",
    "\n",
    "## Drop the first date (the day before `start_dt`) since it has an undefined return\n",
    "train_data_ret = train_data_ret[ start_dt:]\n",
    "print(train_data_ret.head())"
   ]
  },
  {
   "cell_type": "markdown",
   "metadata": {},
   "source": [
    "Expected outputs should be similar to this:   \n"
   ]
  },
  {
   "cell_type": "raw",
   "metadata": {},
   "source": [
    "            AAPL_Ret   SPY_Ret\n",
    "Dt                            \n",
    "2018-01-02  0.017905  0.007158\n",
    "2018-01-03 -0.000174  0.006325\n",
    "2018-01-04  0.004645  0.004215\n",
    "2018-01-05  0.011385  0.006664\n",
    "2018-01-08 -0.003714  0.001829"
   ]
  },
  {
   "cell_type": "markdown",
   "metadata": {},
   "source": [
    "## Remove the target \n",
    "\n",
    "The only feature is the return of the market proxy $\\spy$.\n",
    "\n",
    "Predicting the target given the target as a feature would be cheating !\n",
    "\n",
    "So we will create `X_train, y_train` from `train_data_ret`\n",
    "- `X_train` has only features for the example\n",
    "- `y_train` is the target for the example"
   ]
  },
  {
   "cell_type": "code",
   "execution_count": null,
   "metadata": {
    "deletable": false,
    "editable": false,
    "nbgrader": {
     "cell_type": "code",
     "checksum": "e12fd5782a1dd8d3ed34c4ee5221717f",
     "grade": false,
     "grade_id": "cell-68e1b762116be4e3",
     "locked": true,
     "schema_version": 3,
     "solution": false,
     "task": false
    }
   },
   "outputs": [],
   "source": [
    "indexAttr = index_ticker + \"_Ret\"\n",
    "\n",
    "X_train, y_train =  train_data_ret[ [indexAttr] ], train_data_ret.drop(columns=[ indexAttr ] )"
   ]
  },
  {
   "cell_type": "markdown",
   "metadata": {},
   "source": [
    "# Transformations: transform the test data\n",
    "\n",
    "We have just performed some transformations of the training data.\n",
    "\n",
    "**Remember**:\n",
    "\n",
    "You need to perform *identical* transformations to the test data.\n",
    "\n",
    "The test data will be returns from `test_start_dt` to `test_end_dt` inclusive.\n",
    "\n",
    "We will apply identical transformations as we did to the training data, but with a different date range.\n"
   ]
  },
  {
   "cell_type": "markdown",
   "metadata": {},
   "source": [
    "We obtained `X_train, y_train` via transformations to `train_data_price`.\n",
    "\n",
    "We will now obtain `X_test, y_test` by identical transformations to `test_data_price`\n",
    "\n",
    "**Question:**\n",
    "\n",
    "Create the training data `X_test, y_test`\n",
    "- Apply the same transformations to `test_data_price` as you did to `train_data_price`\n",
    "- To create variable `test_data_ret`\n",
    "- We will convert `test_data_ret` to `X_test, y_test` for you\n",
    "\n",
    "**Hints**\n",
    "\n",
    "Create `test_data_ret` in a manner analogous to the creation of `train_data_ret`\n",
    "- Use `getReturns` to convert price levels to returns\n",
    "- Use `renamePriceToRet` to rename the columns to reflect the change in data from price to return\n",
    "- Drop the first date from `test_data_ret` as it has an undefined return\n"
   ]
  },
  {
   "cell_type": "code",
   "execution_count": null,
   "metadata": {
    "deletable": false,
    "nbgrader": {
     "cell_type": "code",
     "checksum": "80cdf2d6901123db65123cd50decc41a",
     "grade": false,
     "grade_id": "cell-7aac82a6b5289f38",
     "locked": false,
     "schema_version": 3,
     "solution": true,
     "task": false
    }
   },
   "outputs": [],
   "source": [
    "test_data_ret = None\n",
    "X_test = None\n",
    "y_test = None\n",
    "\n",
    "# YOUR CODE HERE\n",
    "raise NotImplementedError()\n",
    "\n",
    "X_test, y_test =  test_data_ret[ [indexAttr] ], test_data_ret.drop(columns=[ indexAttr ] )\n",
    "\n",
    "print(\"test data length\", test_data_ret.shape[0])\n",
    "print(\"X test length\", X_test.shape[0])\n",
    "print(\"y test length\", y_test.shape[0])\n",
    "print(test_data_ret.head())"
   ]
  },
  {
   "cell_type": "markdown",
   "metadata": {},
   "source": [
    "Expected outputs should be similar to this:   \n",
    "\n",
    "test data length 63      \n",
    "X test length 63      \n",
    "y test length 63       \n",
    "data:    \n",
    "<table> \n",
    "    <tr> \n",
    "        <td>Dt</td><td>AAPL_Ret</td><td>SPY_Ret</td>\n",
    "    </tr>\n",
    "    <tr> \n",
    "        <td>2018-10-01</td><td>0.006733</td><td>0.003474</td>\n",
    "    </tr>\n",
    "    <tr> \n",
    "        <td>2018-10-02</td><td>0.008888</td><td>-0.000583</td>\n",
    "    </tr>\n",
    "    <tr> \n",
    "        <td>2018-10-03</td><td>0.012169</td><td>0.000548</td> \n",
    "    </tr>\n",
    "    <tr> \n",
    "        <td>2018-10-04</td><td>-0.017581</td><td>-0.007815</td>\n",
    "    </tr>\n",
    "    <tr> \n",
    "        <td>2018-10-05</td><td>-0.016229</td><td>-0.005597</td>\n",
    "    </tr>\n",
    "</table>   "
   ]
  },
  {
   "cell_type": "code",
   "execution_count": null,
   "metadata": {
    "deletable": false,
    "editable": false,
    "nbgrader": {
     "cell_type": "code",
     "checksum": "c137763d9ad534ea037c78bc5efe686e",
     "grade": true,
     "grade_id": "check-transform-test-data",
     "locked": true,
     "points": 10,
     "schema_version": 3,
     "solution": false
    }
   },
   "outputs": [],
   "source": []
  },
  {
   "cell_type": "markdown",
   "metadata": {},
   "source": [
    "# Train a model (Regression)\n",
    "\n",
    "Use Linear Regression to predict the return of a ticker from the return of the market proxy $\\spy$.\n",
    "For example, for ticker $\\aapl$\n",
    "\n",
    "$$\n",
    "\\ret_\\aapl^\\tp = \\beta_0 + \\beta_{\\aapl, \\spy} * \\ret_\\spy^\\tp + \\epsilon_{\\aapl}^\\tp\n",
    "$$\n",
    "\n",
    "Each example corresponds to one day (time $t$)\n",
    "- has features\n",
    "    - constant 1, corresponding to the intercept parameter\n",
    "    - return of the market proxy $\\spy$\n",
    "       $$\\x^\\tp = \\begin{pmatrix}\n",
    "        1 \\\\\n",
    "        \\ret_\\spy^\\tp\n",
    "        \\end{pmatrix}$$\n",
    "\n",
    "- has target\n",
    "    - return of the ticker\n",
    "    $$\\y^\\tp = \\ret_\\aapl^\\tp$$\n",
    "\n",
    " \n",
    "You will use Linear Regression to solve for parameters $\\beta_0$,  $\\beta_{\\aapl, \\spy}$ \n",
    "\n",
    "- In the lectures we used the symbol $\\Theta$ to denote the parameter vector; here we use $\\mathbf{\\beta}$\n",
    "- In Finance the symbol $\\beta$ is often used to denote the relationship between returns.\n",
    "- Rather than explicitly creating a constant 1 feature\n",
    "    - you may invoke the model object with the option including an intercept\n",
    "    - if you do so, the feature vector you pass will be\n",
    "   $$\\x^\\tp = \\begin{pmatrix}\n",
    "        \\ret_\\spy^\\tp\n",
    "        \\end{pmatrix}$$  \n",
    "    \n",
    "\n",
    "\n",
    "- Use the entire training set\n",
    "- Do not use cross-validation"
   ]
  },
  {
   "cell_type": "markdown",
   "metadata": {},
   "source": [
    "**Questions:**\n",
    "- Complete the function `createModel()` to build your linear regression model\n",
    "- Complete the function `regress()` to do regression and return intercept and coefficients\n",
    "- Replace the 0 values in the following cell with your answers, and execute the print statements\n"
   ]
  },
  {
   "cell_type": "code",
   "execution_count": null,
   "metadata": {
    "deletable": false,
    "nbgrader": {
     "cell_type": "code",
     "checksum": "6df2a25508ab065a6497801e6164a649",
     "grade": false,
     "grade_id": "ticker-regression",
     "locked": false,
     "schema_version": 3,
     "solution": true,
     "task": false
    }
   },
   "outputs": [],
   "source": [
    "from sklearn import datasets, linear_model\n",
    "\n",
    "beta_0 = 0    # The regression parameter for the constant\n",
    "beta_SPY = 0  # The regression parameter for the return of SPY\n",
    "ticker = \"AAPL\"\n",
    "\n",
    "def createModel():\n",
    "    '''\n",
    "    Build your linear regression model using sklearn\n",
    "    '''\n",
    "    # YOUR CODE HERE\n",
    "    raise NotImplementedError()\n",
    "\n",
    "def regress(model, X, y):\n",
    "    '''\n",
    "    Do regression using returns of your ticker and index\n",
    "    \n",
    "    Arguments:\n",
    "    model: model you build with method \"createModel()\"\n",
    "    X: ticker returns\n",
    "    y: index returns\n",
    "    '''\n",
    "    # YOUR CODE HERE\n",
    "    raise NotImplementedError()\n",
    "\n",
    "# Assign to answer variables\n",
    "regr = createModel()\n",
    "\n",
    "beta_0, beta_SPY = regress(regr, X_train, y_train)\n",
    "\n",
    "\n",
    "print(\"{t:s}: beta_0={b0:3.3f}, beta_SPY={b1:3.3f}\".format(t=ticker, b0=beta_0, b1=beta_SPY))"
   ]
  },
  {
   "cell_type": "markdown",
   "metadata": {},
   "source": [
    "Your expected outputs should be:\n",
    "<table> \n",
    "    <tr> \n",
    "        <td>  \n",
    "            beta_0\n",
    "        </td>\n",
    "        <td>\n",
    "         0.001\n",
    "        </td>\n",
    "    </tr>\n",
    "    <tr> \n",
    "        <td>\n",
    "            beta_SPY\n",
    "        </td>\n",
    "        <td>\n",
    "         1.071\n",
    "        </td>\n",
    "    </tr>\n",
    "\n",
    "</table>"
   ]
  },
  {
   "cell_type": "code",
   "execution_count": null,
   "metadata": {
    "deletable": false,
    "editable": false,
    "nbgrader": {
     "cell_type": "code",
     "checksum": "cb2f3a1ed2eb50e8f5f696a4f3ba96c8",
     "grade": true,
     "grade_id": "check-ticker-regression",
     "locked": true,
     "points": 50,
     "schema_version": 3,
     "solution": false,
     "task": false
    }
   },
   "outputs": [],
   "source": []
  },
  {
   "cell_type": "markdown",
   "metadata": {},
   "source": [
    "## Train the model using Cross validation\n",
    "\n",
    "Use 5-fold cross validation\n",
    "\n",
    "**Question:**\n",
    "- Complete the function `compute_cross_val_avg()` to compute the average score of 5-fold cross validation\n",
    "- Replace the 0 values in the following cell with your answers, and execute the print statements\n",
    "\n",
    "**Hint:**  \n",
    "- You can use the `cross_val_score` in `sklearn.model_selection`"
   ]
  },
  {
   "cell_type": "code",
   "execution_count": null,
   "metadata": {
    "deletable": false,
    "nbgrader": {
     "cell_type": "code",
     "checksum": "31dcef45efd93f434a79e79dbf45c999",
     "grade": false,
     "grade_id": "cell-682c309ea0167241",
     "locked": false,
     "schema_version": 3,
     "solution": true,
     "task": false
    }
   },
   "outputs": [],
   "source": [
    "from sklearn.model_selection import cross_val_score\n",
    "\n",
    "cross_val_avg = 0 # average score of cross validation\n",
    "k = 5             # 5-fold cross validation\n",
    "\n",
    "def compute_cross_val_avg(model, X, y, k):\n",
    "    '''\n",
    "    Compute the average score of k-fold cross validation\n",
    "    \n",
    "    Arguments:\n",
    "    model: model you build with method \"createModel()\"\n",
    "    X: ticker returns\n",
    "    y: index returns\n",
    "    k: k-fold cross validation\n",
    "    '''\n",
    "    # YOUR CODE HERE\n",
    "    raise NotImplementedError()\n",
    "\n",
    "    \n",
    "cross_val_avg = compute_cross_val_avg(regr, X_train, y_train, 5)\n",
    "print(\"{t:s}: Avg cross val score = {sc:3.2f}\".format(t=ticker, sc=cross_val_avg) )"
   ]
  },
  {
   "cell_type": "code",
   "execution_count": null,
   "metadata": {
    "deletable": false,
    "editable": false,
    "nbgrader": {
     "cell_type": "code",
     "checksum": "266249d1716bfc1e8f31bef5c1425892",
     "grade": true,
     "grade_id": "Check-cross-validation",
     "locked": true,
     "points": 10,
     "schema_version": 3,
     "solution": false
    }
   },
   "outputs": [],
   "source": []
  },
  {
   "cell_type": "markdown",
   "metadata": {},
   "source": [
    "## Evaluate Loss (in sample RMSE) and Performance (Out of sample RMSE)\n",
    "\n",
    "**Question:**\n",
    "- Complete the function `computeRMSE()` to calculate the Root of Mean Square Error (RMSE)\n",
    "- Replace the 0 values in the following cell with your answers, and execute the print statements"
   ]
  },
  {
   "cell_type": "code",
   "execution_count": null,
   "metadata": {
    "deletable": false,
    "nbgrader": {
     "cell_type": "code",
     "checksum": "9c8128d8d7aa3aca76ec894eab8bb815",
     "grade": false,
     "grade_id": "cell-da0f1fee111433fd",
     "locked": false,
     "schema_version": 3,
     "solution": true,
     "task": false
    }
   },
   "outputs": [],
   "source": [
    "from sklearn.metrics import mean_squared_error\n",
    "\n",
    "rmse_in_sample = 0 # in sample loss\n",
    "rmse_out_sample = 0 # out of sample performance\n",
    "\n",
    "# Predicted  in-sample returns of AAPL using SPY index\n",
    "aapl_predicted_in_sample = regr.predict(X_train)\n",
    "# Predicted out-of-sample returns of AAPL using SPY index\n",
    "aapl_predicted_out_sample = regr.predict(X_test)\n",
    "\n",
    "def computeRMSE( target, predicted ):\n",
    "    '''\n",
    "    Calculate the RMSE\n",
    "    \n",
    "    Arguments:\n",
    "    target: real ticker returns\n",
    "    predicted: predicted ticker returns\n",
    "    '''\n",
    "    # YOUR CODE HERE\n",
    "    raise NotImplementedError()\n",
    "    \n",
    "rmse_in_sample = computeRMSE(y_train, aapl_predicted_in_sample)\n",
    "rmse_out_sample = computeRMSE(y_test, aapl_predicted_out_sample)\n",
    "\n",
    "print(\"In Sample Root Mean squared error: {:.3f}\".format( rmse_in_sample ) )\n",
    "print(\"Out of Sample Root Mean squared error: {:.3f}\".format( rmse_out_sample ) )"
   ]
  },
  {
   "cell_type": "code",
   "execution_count": null,
   "metadata": {
    "deletable": false,
    "editable": false,
    "nbgrader": {
     "cell_type": "code",
     "checksum": "77133443ae1ee4de8d456d018215dbc4",
     "grade": true,
     "grade_id": "check-evaluation",
     "locked": true,
     "points": 10,
     "schema_version": 3,
     "solution": false
    }
   },
   "outputs": [],
   "source": []
  },
  {
   "cell_type": "markdown",
   "metadata": {},
   "source": [
    "## Hedged returns\n",
    "\n",
    "Why is being able to predict the return of a ticker, given the return of another instrument (e.g., the market proxy) useful ?\n",
    "- It **does not** allow us to predict the future\n",
    "    - To predict $\\ret_\\aapl^\\tp$, we require the same day return of the proxy $\\ret_\\spy$\n",
    "- It **does** allow us to predict how much $\\aapl$ will outperform the market proxy\n",
    "\n",
    "Consider an investment that goes long (i.e, holds a positive quantity of $\\aapl$\n",
    "- Since the relationship between returns is positive\n",
    "    - You will likely make money if the market goes up\n",
    "    - You will likely lose money if the market goes down\n",
    "    \n",
    "Consider instead a *hedged* investment\n",
    "- Go long 1 USD of $\\aapl$\n",
    "- Go short (hold a negative quantity) $\\beta_{\\aapl,\\spy}$ USD of the market proxy $\\spy$\n",
    "\n",
    "Your *hedged return* on this long/short portfolio will be\n",
    "$$\n",
    "{\\ret'}_{\\aapl}^\\tp = \\ret_\\aapl^\\tp - \\beta_{\\aapl, \\spy} * \\ret_\\spy^\\tp\n",
    "$$\n",
    "\n",
    "As long as\n",
    "$$\n",
    "\\ret_\\aapl^\\tp \\gt \\beta_{\\aapl, \\spy} * \\ret_\\spy^\\tp\n",
    "$$\n",
    "you will make a profit, regardless of whether the market proxy rises or falls !\n",
    "\n",
    "That is: you make money as long as $\\aapl$ *outperforms* the market proxy.\n"
   ]
  },
  {
   "cell_type": "markdown",
   "metadata": {},
   "source": [
    "This hedged portfolio is interesting\n",
    "- Because your returns are independent of the market\n",
    "- The volatility of your returns is likely much lower than the volatility of the long-only investment\n",
    "- There is a belief that it is difficult to predict the market $\\ret_\\spy$\n",
    "- But you might be able to discover a ticker (e.g., $\\aapl$) that will outpeform the market\n",
    "\n",
    "This is a real world application of the Regression task in Finance."
   ]
  },
  {
   "cell_type": "markdown",
   "metadata": {},
   "source": [
    "## Compute the hedged return on the test data examples\n",
    "$$\n",
    "{\\ret'}_{\\aapl}^\\tp = \\ret_\\aapl^\\tp - \\beta_{\\aapl, \\spy} * \\ret_\\spy^\\tp\n",
    "$$\n",
    "for all dates $t$ in the **test set**.  \n",
    "\n",
    "**Question:**\n",
    "- Complete the function `compute_hedged_series` \n",
    "- It should use the model results and the **test examples** to return\n",
    "- The hedged returns of the test examples\n",
    "\n",
    "**Hints**\n",
    "- An `sklearn` model, once fitted, may have attributes `coef_` that give you access to the parameters"
   ]
  },
  {
   "cell_type": "code",
   "execution_count": null,
   "metadata": {
    "deletable": false,
    "nbgrader": {
     "cell_type": "code",
     "checksum": "60630ae4d45a0e461480f79ce0817624",
     "grade": false,
     "grade_id": "cell-615640674398f9ff",
     "locked": false,
     "schema_version": 3,
     "solution": true,
     "task": false
    }
   },
   "outputs": [],
   "source": [
    "hedged_series = pd.DataFrame()\n",
    "\n",
    "def compute_hedged_series(model, X, y):\n",
    "    '''\n",
    "    Compute the hedged series\n",
    "    \n",
    "    Arguments:\n",
    "    model: model you build with method \"createModel()\"\n",
    "    X: ticker returns \n",
    "    y: index returns \n",
    "    '''\n",
    "    # YOUR CODE HERE\n",
    "    raise NotImplementedError()\n",
    "\n",
    "hedged_series = compute_hedged_series(regr, X_test, y_test)\n",
    "print(hedged_series.head())"
   ]
  },
  {
   "cell_type": "code",
   "execution_count": null,
   "metadata": {
    "deletable": false,
    "editable": false,
    "nbgrader": {
     "cell_type": "code",
     "checksum": "89cb1ce909fb57873f20f6e7d7dda4cb",
     "grade": true,
     "grade_id": "check-hedged-series",
     "locked": true,
     "points": 10,
     "schema_version": 3,
     "solution": false
    }
   },
   "outputs": [],
   "source": []
  },
  {
   "cell_type": "markdown",
   "metadata": {},
   "source": [
    "# A model with more than one feature\n",
    "\n",
    "Our simple model used a single feature (return of \"the market\") to make predictions.\n",
    "- There are many more timeseries, stored as .CSV files, in the data directory\n",
    "\n",
    "**Question**\n",
    "- Construct a model with *more than one* feature by choosing from among these timeseries\n",
    "- *Explain* why/how you chose the additional features\n",
    "    - You may run multiple experiments if you choose\n",
    "    - **Remember:** your notebook is a *movie*; we want to see your journey to your solution, not just the last step\n",
    "- Report the average of the scores when using 5 fold cross-validation\n",
    "- Report the in-sample and out of sample RMSE\n",
    "\n"
   ]
  }
 ],
 "metadata": {
  "kernelspec": {
   "display_name": "Python 3",
   "language": "python",
   "name": "python3"
  },
  "language_info": {
   "codemirror_mode": {
    "name": "ipython",
    "version": 3
   },
   "file_extension": ".py",
   "mimetype": "text/x-python",
   "name": "python",
   "nbconvert_exporter": "python",
   "pygments_lexer": "ipython3",
   "version": "3.7.4"
  },
  "toc": {
   "base_numbering": 1,
   "nav_menu": {},
   "number_sections": true,
   "sideBar": true,
   "skip_h1_title": false,
   "title_cell": "Table of Contents",
   "title_sidebar": "Contents",
   "toc_cell": false,
   "toc_position": {
    "height": "calc(100% - 180px)",
    "left": "10px",
    "top": "150px",
    "width": "370.594px"
   },
   "toc_section_display": true,
   "toc_window_display": true
  }
 },
 "nbformat": 4,
 "nbformat_minor": 2
}
